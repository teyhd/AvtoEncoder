{
 "cells": [
  {
   "cell_type": "code",
   "execution_count": 1,
   "id": "39d270dc",
   "metadata": {},
   "outputs": [],
   "source": [
    "import os\n",
    "import importlib\n",
    "import torch\n"
   ]
  },
  {
   "cell_type": "code",
   "execution_count": 2,
   "id": "814d3adf",
   "metadata": {},
   "outputs": [],
   "source": [
    "MODEL_PATH = '\\\\\\\\fs.local\\\\AI\\\\AvtoEncoder\\\\models'"
   ]
  },
  {
   "cell_type": "code",
   "execution_count": 3,
   "id": "e988f34e",
   "metadata": {},
   "outputs": [],
   "source": [
    "image_files = [f for f in os.listdir(MODEL_PATH) if f.lower().endswith(('.pth'))]\n",
    "image_files.sort()"
   ]
  },
  {
   "cell_type": "code",
   "execution_count": 4,
   "id": "f3f7b1fc",
   "metadata": {},
   "outputs": [
    {
     "data": {
      "text/plain": [
       "['V0_IMG128_LAT128_BA64.pth',\n",
       " 'V0_IMG128_LAT2048_BA64.pth',\n",
       " 'V1_IMG256_LAT512_BA128.pth',\n",
       " 'V2_IMG256_LAT128_BA128.pth',\n",
       " 'V2_IMG256_LAT256_BA128.pth',\n",
       " 'V2_IMG256_LAT64_BA128.pth',\n",
       " 'vae_model_V2.pth',\n",
       " 'vae_model_V3.pth']"
      ]
     },
     "execution_count": 4,
     "metadata": {},
     "output_type": "execute_result"
    }
   ],
   "source": [
    "image_files"
   ]
  },
  {
   "cell_type": "code",
   "execution_count": null,
   "id": "4f4501b9",
   "metadata": {},
   "outputs": [
    {
     "ename": "KeyError",
     "evalue": "'EPOCH'",
     "output_type": "error",
     "traceback": [
      "\u001b[31m---------------------------------------------------------------------------\u001b[39m",
      "\u001b[31mKeyError\u001b[39m                                  Traceback (most recent call last)",
      "\u001b[36mCell\u001b[39m\u001b[36m \u001b[39m\u001b[32mIn[6]\u001b[39m\u001b[32m, line 3\u001b[39m\n\u001b[32m      1\u001b[39m \u001b[38;5;28;01mfor\u001b[39;00m image_file \u001b[38;5;129;01min\u001b[39;00m image_files:\n\u001b[32m      2\u001b[39m     checkpoint = torch.load(\u001b[33mf\u001b[39m\u001b[33m\"\u001b[39m\u001b[38;5;132;01m{\u001b[39;00mMODEL_PATH\u001b[38;5;132;01m}\u001b[39;00m\u001b[38;5;130;01m\\\\\u001b[39;00m\u001b[38;5;132;01m{\u001b[39;00mimage_file\u001b[38;5;132;01m}\u001b[39;00m\u001b[33m\"\u001b[39m)\n\u001b[32m----> \u001b[39m\u001b[32m3\u001b[39m     \u001b[38;5;28mprint\u001b[39m(\u001b[33mf\u001b[39m\u001b[33m'\u001b[39m\u001b[38;5;130;01m\\n\u001b[39;00m\u001b[33mVAE_V: \u001b[39m\u001b[38;5;132;01m{\u001b[39;00mcheckpoint[\u001b[33m'\u001b[39m\u001b[33mv\u001b[39m\u001b[33m'\u001b[39m]\u001b[38;5;132;01m}\u001b[39;00m\u001b[33m | IMAGE_SIZE: \u001b[39m\u001b[38;5;132;01m{\u001b[39;00mcheckpoint[\u001b[33m'\u001b[39m\u001b[33mIMAGE_SIZE\u001b[39m\u001b[33m'\u001b[39m]\u001b[38;5;132;01m}\u001b[39;00m\u001b[33m | LATENT_DIM: \u001b[39m\u001b[38;5;132;01m{\u001b[39;00mcheckpoint[\u001b[33m'\u001b[39m\u001b[33mLATENT_DIM\u001b[39m\u001b[33m'\u001b[39m]\u001b[38;5;132;01m}\u001b[39;00m\u001b[33m | BATCH_SIZE: \u001b[39m\u001b[38;5;132;01m{\u001b[39;00mcheckpoint[\u001b[33m'\u001b[39m\u001b[33mBATCH_SIZE\u001b[39m\u001b[33m'\u001b[39m]\u001b[38;5;132;01m}\u001b[39;00m\u001b[33m | EP\u001b[39m\u001b[38;5;132;01m{\u001b[39;00m\u001b[43mcheckpoint\u001b[49m\u001b[43m[\u001b[49m\u001b[33;43m'\u001b[39;49m\u001b[33;43mEPOCH\u001b[39;49m\u001b[33;43m'\u001b[39;49m\u001b[43m]\u001b[49m\u001b[38;5;132;01m}\u001b[39;00m\u001b[33m'\u001b[39m)\n\u001b[32m      4\u001b[39m     new_namde = \u001b[33mf\u001b[39m\u001b[33m'\u001b[39m\u001b[33mV\u001b[39m\u001b[38;5;132;01m{\u001b[39;00mcheckpoint[\u001b[33m'\u001b[39m\u001b[33mv\u001b[39m\u001b[33m'\u001b[39m]\u001b[38;5;132;01m}\u001b[39;00m\u001b[33m_IMG\u001b[39m\u001b[38;5;132;01m{\u001b[39;00mcheckpoint[\u001b[33m'\u001b[39m\u001b[33mIMAGE_SIZE\u001b[39m\u001b[33m'\u001b[39m]\u001b[38;5;132;01m}\u001b[39;00m\u001b[33m_LAT\u001b[39m\u001b[38;5;132;01m{\u001b[39;00mcheckpoint[\u001b[33m'\u001b[39m\u001b[33mLATENT_DIM\u001b[39m\u001b[33m'\u001b[39m]\u001b[38;5;132;01m}\u001b[39;00m\u001b[33m_BA\u001b[39m\u001b[38;5;132;01m{\u001b[39;00mcheckpoint[\u001b[33m'\u001b[39m\u001b[33mBATCH_SIZE\u001b[39m\u001b[33m'\u001b[39m]\u001b[38;5;132;01m}\u001b[39;00m\u001b[33m_EP\u001b[39m\u001b[38;5;132;01m{\u001b[39;00mcheckpoint[\u001b[33m'\u001b[39m\u001b[33mEPOCH\u001b[39m\u001b[33m'\u001b[39m]\u001b[38;5;132;01m}\u001b[39;00m\u001b[33m.pth\u001b[39m\u001b[33m'\u001b[39m\n\u001b[32m      5\u001b[39m     \u001b[38;5;66;03m#os.rename(f\"{MODEL_PATH}\\\\{image_file}\", f\"{MODEL_PATH}\\\\{new_namde}\")\u001b[39;00m\n",
      "\u001b[31mKeyError\u001b[39m: 'EPOCH'"
     ]
    }
   ],
   "source": [
    "for image_file in image_files:\n",
    "    checkpoint = torch.load(f\"{MODEL_PATH}\\\\{image_file}\")\n",
    "    print(f'\\nVAE_V: {checkpoint['v']} | IMAGE_SIZE: {checkpoint['IMAGE_SIZE']} | LATENT_DIM: {checkpoint['LATENT_DIM']} | BATCH_SIZE: {checkpoint['BATCH_SIZE']} | EP{checkpoint['EPOCH']}')\n",
    "    new_namde = f'V{checkpoint['v']}_IMG{checkpoint['IMAGE_SIZE']}_LAT{checkpoint['LATENT_DIM']}_BA{checkpoint['BATCH_SIZE']}_EP{checkpoint['EPOCH']}.pth'\n",
    "    #os.rename(f\"{MODEL_PATH}\\\\{image_file}\", f\"{MODEL_PATH}\\\\{new_namde}\")\n",
    "    print(new_namde)"
   ]
  },
  {
   "cell_type": "code",
   "execution_count": null,
   "id": "09851318",
   "metadata": {},
   "outputs": [],
   "source": []
  }
 ],
 "metadata": {
  "kernelspec": {
   "display_name": "Python 3",
   "language": "python",
   "name": "python3"
  },
  "language_info": {
   "codemirror_mode": {
    "name": "ipython",
    "version": 3
   },
   "file_extension": ".py",
   "mimetype": "text/x-python",
   "name": "python",
   "nbconvert_exporter": "python",
   "pygments_lexer": "ipython3",
   "version": "3.12.2"
  }
 },
 "nbformat": 4,
 "nbformat_minor": 5
}
