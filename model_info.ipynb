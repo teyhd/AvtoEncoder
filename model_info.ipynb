{
 "cells": [
  {
   "cell_type": "code",
   "execution_count": 16,
   "id": "39d270dc",
   "metadata": {},
   "outputs": [],
   "source": [
    "import os\n",
    "import importlib\n",
    "import torch\n"
   ]
  },
  {
   "cell_type": "code",
   "execution_count": 17,
   "id": "814d3adf",
   "metadata": {},
   "outputs": [],
   "source": [
    "MODEL_PATH = '\\\\\\\\fs.local\\\\AI\\\\AvtoEncoder\\\\models'"
   ]
  },
  {
   "cell_type": "code",
   "execution_count": 18,
   "id": "e988f34e",
   "metadata": {},
   "outputs": [],
   "source": [
    "image_files = [f for f in os.listdir(MODEL_PATH) if f.lower().endswith(('.pth'))]\n",
    "image_files.sort()"
   ]
  },
  {
   "cell_type": "code",
   "execution_count": 19,
   "id": "f3f7b1fc",
   "metadata": {},
   "outputs": [
    {
     "data": {
      "text/plain": [
       "['V0_IMG128_LAT128_BA64.pth',\n",
       " 'V0_IMG128_LAT2048_BA64.pth',\n",
       " 'V1_IMG256_LAT512_BA128.pth',\n",
       " 'V2_IMG256_LAT128_BA128.pth',\n",
       " 'V2_IMG256_LAT256_BA128.pth',\n",
       " 'V2_IMG256_LAT64_BA128.pth']"
      ]
     },
     "execution_count": 19,
     "metadata": {},
     "output_type": "execute_result"
    }
   ],
   "source": [
    "image_files"
   ]
  },
  {
   "cell_type": "code",
   "execution_count": 20,
   "id": "4f4501b9",
   "metadata": {},
   "outputs": [
    {
     "name": "stdout",
     "output_type": "stream",
     "text": [
      "\n",
      "VAE_V: 0 | IMAGE_SIZE: 128 | LATENT_DIM: 128 | BATCH_SIZE: 64\n",
      "V0_IMG128_LAT128_BA64.pth\n",
      "\n",
      "VAE_V: 0 | IMAGE_SIZE: 128 | LATENT_DIM: 2048 | BATCH_SIZE: 64\n",
      "V0_IMG128_LAT2048_BA64.pth\n",
      "\n",
      "VAE_V: 1 | IMAGE_SIZE: 256 | LATENT_DIM: 512 | BATCH_SIZE: 128\n",
      "V1_IMG256_LAT512_BA128.pth\n",
      "\n",
      "VAE_V: 2 | IMAGE_SIZE: 256 | LATENT_DIM: 128 | BATCH_SIZE: 128\n",
      "V2_IMG256_LAT128_BA128.pth\n",
      "\n",
      "VAE_V: 2 | IMAGE_SIZE: 256 | LATENT_DIM: 256 | BATCH_SIZE: 128\n",
      "V2_IMG256_LAT256_BA128.pth\n",
      "\n",
      "VAE_V: 2 | IMAGE_SIZE: 256 | LATENT_DIM: 64 | BATCH_SIZE: 128\n",
      "V2_IMG256_LAT64_BA128.pth\n"
     ]
    }
   ],
   "source": [
    "for image_file in image_files:\n",
    "    checkpoint = torch.load(f\"{MODEL_PATH}\\\\{image_file}\")\n",
    "    print(f'\\nVAE_V: {checkpoint['v']} | IMAGE_SIZE: {checkpoint['IMAGE_SIZE']} | LATENT_DIM: {checkpoint['LATENT_DIM']} | BATCH_SIZE: {checkpoint['BATCH_SIZE']}')\n",
    "    new_namde = f'V{checkpoint['v']}_IMG{checkpoint['IMAGE_SIZE']}_LAT{checkpoint['LATENT_DIM']}_BA{checkpoint['BATCH_SIZE']}.pth'\n",
    "    os.rename(f\"{MODEL_PATH}\\\\{image_file}\", f\"{MODEL_PATH}\\\\{new_namde}\")\n",
    "    print(new_namde)"
   ]
  },
  {
   "cell_type": "code",
   "execution_count": null,
   "id": "09851318",
   "metadata": {},
   "outputs": [],
   "source": []
  }
 ],
 "metadata": {
  "kernelspec": {
   "display_name": "Python 3",
   "language": "python",
   "name": "python3"
  },
  "language_info": {
   "codemirror_mode": {
    "name": "ipython",
    "version": 3
   },
   "file_extension": ".py",
   "mimetype": "text/x-python",
   "name": "python",
   "nbconvert_exporter": "python",
   "pygments_lexer": "ipython3",
   "version": "3.12.2"
  }
 },
 "nbformat": 4,
 "nbformat_minor": 5
}
